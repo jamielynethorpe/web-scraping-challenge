{
 "cells": [
  {
   "cell_type": "code",
   "execution_count": 1,
   "metadata": {},
   "outputs": [],
   "source": [
    "# Declare Dependencies \n",
    "from bs4 import BeautifulSoup\n",
    "from splinter import Browser\n",
    "import pandas as pd\n",
    "import requests\n"
   ]
  },
  {
   "cell_type": "code",
   "execution_count": 2,
   "metadata": {},
   "outputs": [
    {
     "name": "stdout",
     "output_type": "stream",
     "text": [
      "Requirement already satisfied: nbconvert in /Users/jamiethorpe/anaconda3/envs/PythonData/lib/python3.6/site-packages (5.4.1)\n",
      "Requirement already satisfied: mistune>=0.8.1 in /Users/jamiethorpe/anaconda3/envs/PythonData/lib/python3.6/site-packages (from nbconvert) (0.8.4)\n",
      "Requirement already satisfied: jinja2 in /Users/jamiethorpe/anaconda3/envs/PythonData/lib/python3.6/site-packages (from nbconvert) (2.10)\n",
      "Requirement already satisfied: pygments in /Users/jamiethorpe/anaconda3/envs/PythonData/lib/python3.6/site-packages (from nbconvert) (2.3.1)\n",
      "Requirement already satisfied: traitlets>=4.2 in /Users/jamiethorpe/anaconda3/envs/PythonData/lib/python3.6/site-packages (from nbconvert) (4.3.2)\n",
      "Requirement already satisfied: jupyter_core in /Users/jamiethorpe/anaconda3/envs/PythonData/lib/python3.6/site-packages (from nbconvert) (4.4.0)\n",
      "Requirement already satisfied: nbformat>=4.4 in /Users/jamiethorpe/anaconda3/envs/PythonData/lib/python3.6/site-packages (from nbconvert) (4.4.0)\n",
      "Requirement already satisfied: entrypoints>=0.2.2 in /Users/jamiethorpe/anaconda3/envs/PythonData/lib/python3.6/site-packages (from nbconvert) (0.3)\n",
      "Requirement already satisfied: bleach in /Users/jamiethorpe/anaconda3/envs/PythonData/lib/python3.6/site-packages (from nbconvert) (3.1.0)\n",
      "Requirement already satisfied: pandocfilters>=1.4.1 in /Users/jamiethorpe/anaconda3/envs/PythonData/lib/python3.6/site-packages (from nbconvert) (1.4.2)\n",
      "Requirement already satisfied: testpath in /Users/jamiethorpe/anaconda3/envs/PythonData/lib/python3.6/site-packages (from nbconvert) (0.4.2)\n",
      "Requirement already satisfied: defusedxml in /Users/jamiethorpe/anaconda3/envs/PythonData/lib/python3.6/site-packages (from nbconvert) (0.5.0)\n",
      "Requirement already satisfied: MarkupSafe>=0.23 in /Users/jamiethorpe/anaconda3/envs/PythonData/lib/python3.6/site-packages (from jinja2->nbconvert) (1.1.1)\n",
      "Requirement already satisfied: ipython_genutils in /Users/jamiethorpe/anaconda3/envs/PythonData/lib/python3.6/site-packages (from traitlets>=4.2->nbconvert) (0.2.0)\n",
      "Requirement already satisfied: six in /Users/jamiethorpe/anaconda3/envs/PythonData/lib/python3.6/site-packages (from traitlets>=4.2->nbconvert) (1.12.0)\n",
      "Requirement already satisfied: decorator in /Users/jamiethorpe/anaconda3/envs/PythonData/lib/python3.6/site-packages (from traitlets>=4.2->nbconvert) (4.4.0)\n",
      "Requirement already satisfied: jsonschema!=2.5.0,>=2.4 in /Users/jamiethorpe/anaconda3/envs/PythonData/lib/python3.6/site-packages (from nbformat>=4.4->nbconvert) (3.0.1)\n",
      "Requirement already satisfied: webencodings in /Users/jamiethorpe/anaconda3/envs/PythonData/lib/python3.6/site-packages (from bleach->nbconvert) (0.5.1)\n",
      "Requirement already satisfied: attrs>=17.4.0 in /Users/jamiethorpe/anaconda3/envs/PythonData/lib/python3.6/site-packages (from jsonschema!=2.5.0,>=2.4->nbformat>=4.4->nbconvert) (19.1.0)\n",
      "Requirement already satisfied: pyrsistent>=0.14.0 in /Users/jamiethorpe/anaconda3/envs/PythonData/lib/python3.6/site-packages (from jsonschema!=2.5.0,>=2.4->nbformat>=4.4->nbconvert) (0.14.11)\n",
      "Requirement already satisfied: setuptools in /Users/jamiethorpe/anaconda3/envs/PythonData/lib/python3.6/site-packages (from jsonschema!=2.5.0,>=2.4->nbformat>=4.4->nbconvert) (40.8.0)\n"
     ]
    }
   ],
   "source": [
    "!pip install nbconvert\n"
   ]
  },
  {
   "cell_type": "markdown",
   "metadata": {},
   "source": [
    "Mac User "
   ]
  },
  {
   "cell_type": "code",
   "execution_count": null,
   "metadata": {},
   "outputs": [],
   "source": [
    "#Choose the executable path to driver \n",
    "executable_path = {'executable_path': '/usr/local/bin/chromedriver'}\n",
    "browser = Browser('chrome', **executable_path, headless=False)"
   ]
  },
  {
   "cell_type": "markdown",
   "metadata": {},
   "source": [
    " NASA Mars News "
   ]
  },
  {
   "cell_type": "code",
   "execution_count": null,
   "metadata": {},
   "outputs": [],
   "source": [
    "#Visit NASA URL to scrape the page\n",
    "url='https://mars.nasa.gov/news/'\n",
    "browser.visit(url)\n"
   ]
  },
  {
   "cell_type": "code",
   "execution_count": null,
   "metadata": {},
   "outputs": [],
   "source": [
    "#Parse with 'html.parser';creation with beautifulsoup object\n",
    "html = browser.html\n",
    "soup = BeautifulSoup(html, 'html.parser')"
   ]
  },
  {
   "cell_type": "code",
   "execution_count": null,
   "metadata": {},
   "outputs": [],
   "source": [
    "#collect the latest news title and paragraph text\n",
    "news_title= soup.find('div', class= 'content_title').text"
   ]
  }
 ],
 "metadata": {
  "kernelspec": {
   "display_name": "PythonData (PythonData)",
   "language": "python",
   "name": "pythondata"
  },
  "language_info": {
   "codemirror_mode": {
    "name": "ipython",
    "version": 3
   },
   "file_extension": ".py",
   "mimetype": "text/x-python",
   "name": "python",
   "nbconvert_exporter": "python",
   "pygments_lexer": "ipython3",
   "version": "3.6.8"
  }
 },
 "nbformat": 4,
 "nbformat_minor": 2
}
